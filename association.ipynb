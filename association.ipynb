{
  "nbformat": 4,
  "nbformat_minor": 0,
  "metadata": {
    "colab": {
      "name": "Untitled0.ipynb",
      "provenance": [],
      "collapsed_sections": [],
      "toc_visible": true,
      "authorship_tag": "ABX9TyPLEYrMp9zz8Tbx6wiytbbn",
      "include_colab_link": true
    },
    "kernelspec": {
      "name": "python3",
      "display_name": "Python 3"
    }
  },
  "cells": [
    {
      "cell_type": "markdown",
      "metadata": {
        "id": "view-in-github",
        "colab_type": "text"
      },
      "source": [
        "<a href=\"https://colab.research.google.com/github/vparas850/Association/blob/main/association.ipynb\" target=\"_parent\"><img src=\"https://colab.research.google.com/assets/colab-badge.svg\" alt=\"Open In Colab\"/></a>"
      ]
    },
    {
      "cell_type": "code",
      "metadata": {
        "id": "duqIw_RfGpne",
        "colab": {
          "base_uri": "https://localhost:8080/"
        },
        "outputId": "290cd1e5-8fc5-4360-ccfd-e62d811fa484"
      },
      "source": [
        "import pandas as pd\n",
        "import numpy as np\n",
        "import matplotlib.pyplot as plt\n",
        "\n",
        "dataset = pd.read_csv('/content/sample_data/Group7_dataset_tests_state_wise.csv', header = None) #To make sure the first row is not thought of as the heading\n",
        "df1 = pd.DataFrame(dataset)\n",
        "#df1= df[[1,2,3,5,4,5,6,7,8,9,10,11,12,13,14,15,16,25]]\n",
        "df1.shape\n",
        "#Transforming the list into a list of lists, so that each transaction can be indexed easier\n",
        "transactions = []\n",
        "for i in range(0, df1.shape[0]):\n",
        "    transactions.append([str(df1.values[i, j]) for j in range(0, 27)])\n",
        "\n",
        "print(transactions[0])"
      ],
      "execution_count": 20,
      "outputs": [
        {
          "output_type": "stream",
          "text": [
            "['Updated On', 'State', 'Total Tested', 'Tag (Total Tested)', 'Positive', 'Negative', 'Unconfirmed', 'Cumulative People In Quarantine', 'Total People Currently in Quarantine', 'Tag (People in Quarantine)', 'Total People Released From Quarantine', 'People in ICU', 'People on Ventilators', 'Num Isolation Beds', 'Num ICU Beds', 'Num Ventilators', 'Total PPE', 'Total N95 Masks', 'Corona Enquiry Calls', 'Num Calls State Helpline', 'Source1', 'Source2', 'Source3', 'Test positivity rate', 'Tests per thousand', 'Tests per million', 'Tests per positive case']\n"
          ],
          "name": "stdout"
        }
      ]
    },
    {
      "cell_type": "code",
      "metadata": {
        "id": "M1Git-WuHiWA"
      },
      "source": [
        "from apyori import apriori\n",
        "# Please download this as a custom package --> type \"apyori\"\n",
        "# To load custom packages, do not refresh the page. Instead, click on the reset button on the Console.\n",
        "\n",
        "rules = apriori(transactions, min_support = 0.03, min_confidence = 0.2, min_lift = 3, min_length = 10)\n",
        "# Support: number of transactions containing set of times / total number of transactions\n",
        "# .      --> products that are bought at least 3 times a day --> 21 / 7501 = 0.0027\n",
        "# Confidence: Should not be too high, as then this wil lead to obvious rules\n",
        "\n",
        "#Try many combinations of values to experiment with the model. \n",
        "\n",
        "#viewing the rules\n",
        "results = list(rules)"
      ],
      "execution_count": 7,
      "outputs": []
    },
    {
      "cell_type": "code",
      "metadata": {
        "colab": {
          "base_uri": "https://localhost:8080/",
          "height": 204
        },
        "id": "FZd97ON1P5Df",
        "outputId": "4cb4f987-c76f-4cb0-aa89-17264d52f8bc"
      },
      "source": [
        "results = pd.DataFrame(results)\n",
        "results.head()"
      ],
      "execution_count": 8,
      "outputs": [
        {
          "output_type": "execute_result",
          "data": {
            "text/html": [
              "<div>\n",
              "<style scoped>\n",
              "    .dataframe tbody tr th:only-of-type {\n",
              "        vertical-align: middle;\n",
              "    }\n",
              "\n",
              "    .dataframe tbody tr th {\n",
              "        vertical-align: top;\n",
              "    }\n",
              "\n",
              "    .dataframe thead th {\n",
              "        text-align: right;\n",
              "    }\n",
              "</style>\n",
              "<table border=\"1\" class=\"dataframe\">\n",
              "  <thead>\n",
              "    <tr style=\"text-align: right;\">\n",
              "      <th></th>\n",
              "      <th>items</th>\n",
              "      <th>support</th>\n",
              "      <th>ordered_statistics</th>\n",
              "    </tr>\n",
              "  </thead>\n",
              "  <tbody>\n",
              "    <tr>\n",
              "      <th>0</th>\n",
              "      <td>(1031.0, Delhi)</td>\n",
              "      <td>0.031706</td>\n",
              "      <td>[((1031.0), (Delhi), 0.99009900990099, 31.2277...</td>\n",
              "    </tr>\n",
              "    <tr>\n",
              "      <th>1</th>\n",
              "      <td>(17321.0, Karnataka)</td>\n",
              "      <td>0.032023</td>\n",
              "      <td>[((17321.0), (Karnataka), 1.0, 31.227722772277...</td>\n",
              "    </tr>\n",
              "    <tr>\n",
              "      <th>2</th>\n",
              "      <td>(Gujarat, All Included)</td>\n",
              "      <td>0.031072</td>\n",
              "      <td>[((All Included), (Gujarat), 0.612499999999999...</td>\n",
              "    </tr>\n",
              "    <tr>\n",
              "      <th>3</th>\n",
              "      <td>(Facility, Samples Collected)</td>\n",
              "      <td>0.046290</td>\n",
              "      <td>[((Facility), (Samples Collected), 0.371501272...</td>\n",
              "    </tr>\n",
              "    <tr>\n",
              "      <th>4</th>\n",
              "      <td>(Samples Sent, Haryana)</td>\n",
              "      <td>0.032023</td>\n",
              "      <td>[((Haryana), (Samples Sent), 1.0, 3.2922755741...</td>\n",
              "    </tr>\n",
              "  </tbody>\n",
              "</table>\n",
              "</div>"
            ],
            "text/plain": [
              "                           items  ...                                 ordered_statistics\n",
              "0                (1031.0, Delhi)  ...  [((1031.0), (Delhi), 0.99009900990099, 31.2277...\n",
              "1           (17321.0, Karnataka)  ...  [((17321.0), (Karnataka), 1.0, 31.227722772277...\n",
              "2        (Gujarat, All Included)  ...  [((All Included), (Gujarat), 0.612499999999999...\n",
              "3  (Facility, Samples Collected)  ...  [((Facility), (Samples Collected), 0.371501272...\n",
              "4        (Samples Sent, Haryana)  ...  [((Haryana), (Samples Sent), 1.0, 3.2922755741...\n",
              "\n",
              "[5 rows x 3 columns]"
            ]
          },
          "metadata": {
            "tags": []
          },
          "execution_count": 8
        }
      ]
    }
  ]
}